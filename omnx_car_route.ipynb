{
 "cells": [
  {
   "cell_type": "code",
   "execution_count": 1,
   "id": "80d4e49a-2b85-4703-8d31-bfacb85d8721",
   "metadata": {
    "tags": []
   },
   "outputs": [
    {
     "name": "stdout",
     "output_type": "stream",
     "text": [
      "Collecting osmnx\n",
      "  Obtaining dependency information for osmnx from https://files.pythonhosted.org/packages/ad/da/a824cbb42bb2720adc8aa528ed26a1a2f4ca8f9f72f29cdc11b5e3ea0170/osmnx-1.7.1-py3-none-any.whl.metadata\n",
      "  Downloading osmnx-1.7.1-py3-none-any.whl.metadata (4.7 kB)\n",
      "Requirement already satisfied: networkx in /Users/lucanoser/anaconda3/lib/python3.11/site-packages (3.1)\n",
      "Collecting geopandas>=0.12 (from osmnx)\n",
      "  Obtaining dependency information for geopandas>=0.12 from https://files.pythonhosted.org/packages/3e/cf/ede993ed7070c5487e6db550aad490178c06eaa48ad26ff5e5263f995fba/geopandas-0.14.1-py3-none-any.whl.metadata\n",
      "  Downloading geopandas-0.14.1-py3-none-any.whl.metadata (1.5 kB)\n",
      "Requirement already satisfied: numpy>=1.20 in /Users/lucanoser/anaconda3/lib/python3.11/site-packages (from osmnx) (1.24.3)\n",
      "Requirement already satisfied: pandas>=1.1 in /Users/lucanoser/anaconda3/lib/python3.11/site-packages (from osmnx) (1.5.3)\n",
      "Requirement already satisfied: requests>=2.27 in /Users/lucanoser/anaconda3/lib/python3.11/site-packages (from osmnx) (2.31.0)\n",
      "Collecting shapely>=2.0 (from osmnx)\n",
      "  Obtaining dependency information for shapely>=2.0 from https://files.pythonhosted.org/packages/2c/b1/ca09649b4abe06366d41e90c3eee95a7741657404404a63bd0e8b53e32b8/shapely-2.0.2-cp311-cp311-macosx_11_0_arm64.whl.metadata\n",
      "  Downloading shapely-2.0.2-cp311-cp311-macosx_11_0_arm64.whl.metadata (7.0 kB)\n",
      "Collecting fiona>=1.8.21 (from geopandas>=0.12->osmnx)\n",
      "  Obtaining dependency information for fiona>=1.8.21 from https://files.pythonhosted.org/packages/62/50/cc0cbc48d4f11899611edfb23a99d9d43101d3d28f2ef90a5506782cae84/fiona-1.9.5-cp311-cp311-macosx_11_0_arm64.whl.metadata\n",
      "  Downloading fiona-1.9.5-cp311-cp311-macosx_11_0_arm64.whl.metadata (49 kB)\n",
      "\u001b[2K     \u001b[90m━━━━━━━━━━━━━━━━━━━━━━━━━━━━━━━━━━━━━━━━\u001b[0m \u001b[32m49.7/49.7 kB\u001b[0m \u001b[31m1.4 MB/s\u001b[0m eta \u001b[36m0:00:00\u001b[0m\n",
      "\u001b[?25hRequirement already satisfied: packaging in /Users/lucanoser/anaconda3/lib/python3.11/site-packages (from geopandas>=0.12->osmnx) (23.0)\n",
      "Collecting pyproj>=3.3.0 (from geopandas>=0.12->osmnx)\n",
      "  Obtaining dependency information for pyproj>=3.3.0 from https://files.pythonhosted.org/packages/30/bd/b9bd3761f08754e8dbb34c5a647db2099b348ab5da338e90980caf280e37/pyproj-3.6.1-cp311-cp311-macosx_11_0_arm64.whl.metadata\n",
      "  Downloading pyproj-3.6.1-cp311-cp311-macosx_11_0_arm64.whl.metadata (31 kB)\n",
      "Requirement already satisfied: python-dateutil>=2.8.1 in /Users/lucanoser/anaconda3/lib/python3.11/site-packages (from pandas>=1.1->osmnx) (2.8.2)\n",
      "Requirement already satisfied: pytz>=2020.1 in /Users/lucanoser/anaconda3/lib/python3.11/site-packages (from pandas>=1.1->osmnx) (2022.7)\n",
      "Requirement already satisfied: charset-normalizer<4,>=2 in /Users/lucanoser/anaconda3/lib/python3.11/site-packages (from requests>=2.27->osmnx) (2.0.4)\n",
      "Requirement already satisfied: idna<4,>=2.5 in /Users/lucanoser/anaconda3/lib/python3.11/site-packages (from requests>=2.27->osmnx) (3.4)\n",
      "Requirement already satisfied: urllib3<3,>=1.21.1 in /Users/lucanoser/anaconda3/lib/python3.11/site-packages (from requests>=2.27->osmnx) (1.26.16)\n",
      "Requirement already satisfied: certifi>=2017.4.17 in /Users/lucanoser/anaconda3/lib/python3.11/site-packages (from requests>=2.27->osmnx) (2023.7.22)\n",
      "Requirement already satisfied: attrs>=19.2.0 in /Users/lucanoser/anaconda3/lib/python3.11/site-packages (from fiona>=1.8.21->geopandas>=0.12->osmnx) (22.1.0)\n",
      "Requirement already satisfied: click~=8.0 in /Users/lucanoser/anaconda3/lib/python3.11/site-packages (from fiona>=1.8.21->geopandas>=0.12->osmnx) (8.0.4)\n",
      "Collecting click-plugins>=1.0 (from fiona>=1.8.21->geopandas>=0.12->osmnx)\n",
      "  Downloading click_plugins-1.1.1-py2.py3-none-any.whl (7.5 kB)\n",
      "Collecting cligj>=0.5 (from fiona>=1.8.21->geopandas>=0.12->osmnx)\n",
      "  Downloading cligj-0.7.2-py3-none-any.whl (7.1 kB)\n",
      "Requirement already satisfied: six in /Users/lucanoser/anaconda3/lib/python3.11/site-packages (from fiona>=1.8.21->geopandas>=0.12->osmnx) (1.16.0)\n",
      "Requirement already satisfied: setuptools in /Users/lucanoser/anaconda3/lib/python3.11/site-packages (from fiona>=1.8.21->geopandas>=0.12->osmnx) (68.0.0)\n",
      "Downloading osmnx-1.7.1-py3-none-any.whl (102 kB)\n",
      "\u001b[2K   \u001b[90m━━━━━━━━━━━━━━━━━━━━━━━━━━━━━━━━━━━━━━━━\u001b[0m \u001b[32m102.4/102.4 kB\u001b[0m \u001b[31m4.0 MB/s\u001b[0m eta \u001b[36m0:00:00\u001b[0m\n",
      "\u001b[?25hDownloading geopandas-0.14.1-py3-none-any.whl (1.1 MB)\n",
      "\u001b[2K   \u001b[90m━━━━━━━━━━━━━━━━━━━━━━━━━━━━━━━━━━━━━━━━\u001b[0m \u001b[32m1.1/1.1 MB\u001b[0m \u001b[31m3.8 MB/s\u001b[0m eta \u001b[36m0:00:00\u001b[0ma \u001b[36m0:00:01\u001b[0mm\n",
      "\u001b[?25hDownloading shapely-2.0.2-cp311-cp311-macosx_11_0_arm64.whl (1.3 MB)\n",
      "\u001b[2K   \u001b[90m━━━━━━━━━━━━━━━━━━━━━━━━━━━━━━━━━━━━━━━━\u001b[0m \u001b[32m1.3/1.3 MB\u001b[0m \u001b[31m2.8 MB/s\u001b[0m eta \u001b[36m0:00:00\u001b[0ma \u001b[36m0:00:01\u001b[0m\n",
      "\u001b[?25hDownloading fiona-1.9.5-cp311-cp311-macosx_11_0_arm64.whl (14.0 MB)\n",
      "\u001b[2K   \u001b[90m━━━━━━━━━━━━━━━━━━━━━━━━━━━━━━━━━━━━━━━━\u001b[0m \u001b[32m14.0/14.0 MB\u001b[0m \u001b[31m2.7 MB/s\u001b[0m eta \u001b[36m0:00:00\u001b[0m00:01\u001b[0m00:01\u001b[0m\n",
      "\u001b[?25hDownloading pyproj-3.6.1-cp311-cp311-macosx_11_0_arm64.whl (4.9 MB)\n",
      "\u001b[2K   \u001b[90m━━━━━━━━━━━━━━━━━━━━━━━━━━━━━━━━━━━━━━━━\u001b[0m \u001b[32m4.9/4.9 MB\u001b[0m \u001b[31m2.5 MB/s\u001b[0m eta \u001b[36m0:00:00\u001b[0m00:01\u001b[0m00:01\u001b[0m\n",
      "\u001b[?25hInstalling collected packages: shapely, pyproj, cligj, click-plugins, fiona, geopandas, osmnx\n",
      "Successfully installed click-plugins-1.1.1 cligj-0.7.2 fiona-1.9.5 geopandas-0.14.1 osmnx-1.7.1 pyproj-3.6.1 shapely-2.0.2\n",
      "Note: you may need to restart the kernel to use updated packages.\n"
     ]
    }
   ],
   "source": [
    "pip install osmnx networkx"
   ]
  },
  {
   "cell_type": "code",
   "execution_count": 2,
   "id": "077d5769-f141-4f85-9b01-3c733da981cc",
   "metadata": {
    "tags": []
   },
   "outputs": [],
   "source": [
    "import osmnx as ox\n",
    "import networkx as nx\n",
    "import heapq"
   ]
  },
  {
   "cell_type": "code",
   "execution_count": 15,
   "id": "82322de7-d202-46ae-b585-5ce6b602b426",
   "metadata": {
    "tags": []
   },
   "outputs": [],
   "source": [
    "class RouteFinder:\n",
    "    def __init__(self, place_name):\n",
    "        self.place_name = place_name\n",
    "        self.graph = None\n",
    "        \n",
    "    def collect_data(self):\n",
    "        self.graph = ox.graph_from_place(self.place_name, network_type=\"drive\")\n",
    "        \n",
    "    def process_data(self):\n",
    "        self.graph = ox.add_edge_speeds(self.graph)\n",
    "        self.graph = ox.add_edge_travel_times(self.graph)\n",
    "        \n",
    "    def find_shortest_path(self, start_point, end_point):\n",
    "        start_node = ox.nearest_nodes(self.graph, start_point[0], start_point[1])\n",
    "        end_node = ox.nearest_nodes(self.graph, end_point[0], end_point[1])\n",
    "        \n",
    "        shortest_path = nx.shortest_path(self.graph, start_node, end_node, weight=\"travel_time\")\n",
    "        return shortest_path\n",
    "    \n",
    "    def display_route(self, route):\n",
    "        fig, ax = ox.plot_graph_route(self.graph, route, node_size=0)"
   ]
  },
  {
   "cell_type": "code",
   "execution_count": 16,
   "id": "88ad542d-cb5b-44a4-baa6-67c6e85be99b",
   "metadata": {
    "tags": []
   },
   "outputs": [],
   "source": [
    "start_coord = (46.9480, 7.4474)\n",
    "end_coord = (47.3769, 8.5417)"
   ]
  },
  {
   "cell_type": "code",
   "execution_count": 17,
   "id": "589ec754-3be1-457a-bf26-e76d880008d3",
   "metadata": {
    "tags": []
   },
   "outputs": [],
   "source": [
    "route_finder = RouteFinder(\"Switzerland\")"
   ]
  },
  {
   "cell_type": "code",
   "execution_count": 18,
   "id": "f09e8dfc-f819-43c1-91f5-fd64ca245f8e",
   "metadata": {
    "tags": []
   },
   "outputs": [],
   "source": [
    "route_finder.collect_data()"
   ]
  },
  {
   "cell_type": "code",
   "execution_count": 19,
   "id": "294e636c-fb91-49f2-8490-cbf8c1fb21fc",
   "metadata": {
    "tags": []
   },
   "outputs": [],
   "source": [
    "route_finder.process_data()"
   ]
  },
  {
   "cell_type": "code",
   "execution_count": 20,
   "id": "3e999059-b736-42b1-9d60-d96acad63cc3",
   "metadata": {
    "tags": []
   },
   "outputs": [],
   "source": [
    "route = route_finder.find_shortest_path(start_coord, end_coord)"
   ]
  },
  {
   "cell_type": "code",
   "execution_count": null,
   "id": "47043fc2-939c-4e08-828b-1e5e159a14b9",
   "metadata": {},
   "outputs": [],
   "source": []
  }
 ],
 "metadata": {
  "kernelspec": {
   "display_name": "Python 3 (ipykernel)",
   "language": "python",
   "name": "python3"
  },
  "language_info": {
   "codemirror_mode": {
    "name": "ipython",
    "version": 3
   },
   "file_extension": ".py",
   "mimetype": "text/x-python",
   "name": "python",
   "nbconvert_exporter": "python",
   "pygments_lexer": "ipython3",
   "version": "3.11.4"
  }
 },
 "nbformat": 4,
 "nbformat_minor": 5
}
