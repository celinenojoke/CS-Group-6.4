{
 "cells": [
  {
   "cell_type": "code",
   "execution_count": 2,
   "id": "fdd18ec5-e831-4414-bf46-1c489a3b8821",
   "metadata": {
    "tags": []
   },
   "outputs": [
    {
     "name": "stdout",
     "output_type": "stream",
     "text": [
      "Requirement already satisfied: googlemaps in /Users/lucanoser/anaconda3/lib/python3.11/site-packages (4.10.0)\n",
      "Requirement already satisfied: python-dotenv in /Users/lucanoser/anaconda3/lib/python3.11/site-packages (0.21.0)\n",
      "Requirement already satisfied: requests<3.0,>=2.20.0 in /Users/lucanoser/anaconda3/lib/python3.11/site-packages (from googlemaps) (2.31.0)\n",
      "Requirement already satisfied: charset-normalizer<4,>=2 in /Users/lucanoser/anaconda3/lib/python3.11/site-packages (from requests<3.0,>=2.20.0->googlemaps) (2.0.4)\n",
      "Requirement already satisfied: idna<4,>=2.5 in /Users/lucanoser/anaconda3/lib/python3.11/site-packages (from requests<3.0,>=2.20.0->googlemaps) (3.4)\n",
      "Requirement already satisfied: urllib3<3,>=1.21.1 in /Users/lucanoser/anaconda3/lib/python3.11/site-packages (from requests<3.0,>=2.20.0->googlemaps) (1.26.16)\n",
      "Requirement already satisfied: certifi>=2017.4.17 in /Users/lucanoser/anaconda3/lib/python3.11/site-packages (from requests<3.0,>=2.20.0->googlemaps) (2023.7.22)\n",
      "Note: you may need to restart the kernel to use updated packages.\n"
     ]
    }
   ],
   "source": [
    "pip install googlemaps python-dotenv"
   ]
  },
  {
   "cell_type": "code",
   "execution_count": 9,
   "id": "2aeb9df8-6050-4089-96ce-8366aeda6d28",
   "metadata": {
    "tags": []
   },
   "outputs": [],
   "source": [
    "import googlemaps\n",
    "import os\n",
    "from datetime import datetime, timedelta\n",
    "from dotenv import load_dotenv"
   ]
  },
  {
   "cell_type": "code",
   "execution_count": 4,
   "id": "e2ae9337-51bc-4178-8084-e7cd5e9c410b",
   "metadata": {
    "tags": []
   },
   "outputs": [
    {
     "data": {
      "text/plain": [
       "True"
      ]
     },
     "execution_count": 4,
     "metadata": {},
     "output_type": "execute_result"
    }
   ],
   "source": [
    "load_dotenv()"
   ]
  },
  {
   "cell_type": "code",
   "execution_count": 10,
   "id": "7e76f1ff-8e26-47a1-9a30-15b7d16e5c47",
   "metadata": {
    "tags": []
   },
   "outputs": [],
   "source": [
    "class GoogleRouteFinder:\n",
    "    def __init__(self):\n",
    "        self.api_key = os.getenv('GMAP_API_KEY')\n",
    "        self.client=googlemaps.Client(key=self.api_key)\n",
    "        \n",
    "    def get_shortest_route(self, start, end, departure_time_str):\n",
    "        # Parse the departure time string into a datetime object\n",
    "        try:\n",
    "            departure_time = datetime.strptime(departure_time_str, '%Y-%m-%d %H:%M:%S')\n",
    "        except ValueError:\n",
    "            return \"Invalid departure time format. Please use YYYY-MM-DD HH:MM:SS\"\n",
    "\n",
    "        # Request directions\n",
    "        directions_result = self.client.directions(start, end, departure_time=departure_time)\n",
    "\n",
    "        # Extract the route information\n",
    "        if directions_result:\n",
    "            route = directions_result[0]['legs'][0]\n",
    "            duration_seconds = route['duration']['value']\n",
    "            expected_arrival_time = departure_time + timedelta(seconds=duration_seconds)\n",
    "            return {\n",
    "                'start_point': route['start_address'],\n",
    "                'end_point': route['end_address'],\n",
    "                'date': departure_time.strftime(\"%Y-%m-%d\"),\n",
    "                'departure_time': departure_time.strftime(\"%H:%M:%S\"),\n",
    "                'expected_arrival_time': expected_arrival_time.strftime(\"%H:%M:%S\"),\n",
    "                'distance': route['distance']['text'],\n",
    "                'duration': route['duration']['text']\n",
    "            }\n",
    "        else:\n",
    "            return \"No route found\"\n",
    "    \n",
    "   "
   ]
  },
  {
   "cell_type": "code",
   "execution_count": 11,
   "id": "172459fd-0b4a-463c-8dad-bd1a7b2145f1",
   "metadata": {
    "tags": []
   },
   "outputs": [],
   "source": [
    "route_finder = GoogleRouteFinder()"
   ]
  },
  {
   "cell_type": "code",
   "execution_count": 18,
   "id": "f226338f-0890-47f0-820d-4534d230fa91",
   "metadata": {
    "tags": []
   },
   "outputs": [],
   "source": [
    "start_location = \"Zuzwil, Switzerland\"\n",
    "end_location = \"Zurich, Switzerland\"\n",
    "departure_time = \"2023-12-01 08:00:00\""
   ]
  },
  {
   "cell_type": "code",
   "execution_count": 19,
   "id": "3615dab3-9b8c-482e-8e2b-310ec897a7b4",
   "metadata": {
    "tags": []
   },
   "outputs": [],
   "source": [
    "route_info = route_finder.get_shortest_route(start_location, end_location, departure_time)"
   ]
  },
  {
   "cell_type": "code",
   "execution_count": 20,
   "id": "c884a02b-296a-41f1-8855-4d569b97ac89",
   "metadata": {
    "tags": []
   },
   "outputs": [
    {
     "name": "stdout",
     "output_type": "stream",
     "text": [
      "{'start_point': 'Zuzwil, Switzerland', 'end_point': 'Zürich, Switzerland', 'date': '2023-12-01', 'departure_time': '08:00:00', 'expected_arrival_time': '08:47:12', 'distance': '62.5 km', 'duration': '47 mins'}\n"
     ]
    }
   ],
   "source": [
    "print(route_info)"
   ]
  },
  {
   "cell_type": "code",
   "execution_count": 0,
   "id": "ad12c9ec-98ca-4f0b-9d0d-9915b46c28b7",
   "metadata": {},
   "outputs": [],
   "source": []
  }
 ],
 "metadata": {
  "kernelspec": {
   "display_name": "Python 3 (ipykernel)",
   "language": "python",
   "name": "python3"
  },
  "language_info": {
   "codemirror_mode": {
    "name": "ipython",
    "version": 3
   },
   "file_extension": ".py",
   "mimetype": "text/x-python",
   "name": "python",
   "nbconvert_exporter": "python",
   "pygments_lexer": "ipython3",
   "version": "3.11.4"
  }
 },
 "nbformat": 4,
 "nbformat_minor": 5
}
